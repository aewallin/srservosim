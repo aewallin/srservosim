{
 "metadata": {
  "language_info": {
   "codemirror_mode": {
    "name": "ipython",
    "version": 3
   },
   "file_extension": ".py",
   "mimetype": "text/x-python",
   "name": "python",
   "nbconvert_exporter": "python",
   "pygments_lexer": "ipython3",
   "version": 3
  },
  "orig_nbformat": 2,
  "kernelspec": {
   "name": "python_defaultSpec_1597312263892",
   "display_name": "Python 3.8.3 32-bit"
  }
 },
 "nbformat": 4,
 "nbformat_minor": 2,
 "cells": [
  {
   "cell_type": "code",
   "execution_count": 2,
   "metadata": {},
   "outputs": [],
   "source": [
    "import numpy as np\n",
    "import matplotlib.pyplot as plt\n",
    "from scipy.signal import peak_widths, find_peaks\n",
    "from scipy.stats import cauchy, binom, norm\n",
    "from scipy.optimize import curve_fit\n",
    "import pandas as pd\n",
    "import os"
   ]
  },
  {
   "cell_type": "code",
   "execution_count": 6,
   "metadata": {},
   "outputs": [],
   "source": [
    "B0 = np.array([3, 10, 55]).T * 1e-6 # background mg-field\n",
    "I0 = np.array([10, 10, 10]).T * 1e-3 # initial current"
   ]
  },
  {
   "cell_type": "code",
   "execution_count": 15,
   "metadata": {},
   "outputs": [
    {
     "output_type": "execute_result",
     "data": {
      "text/plain": "array([[1.21198102e-02, 2.09006800e-05, 2.42037400e-05],\n       [6.93207702e-02, 4.84241007e-02, 4.18037400e-05],\n       [2.03622360e-01, 1.76029401e-01, 1.08970954e-01]])"
     },
     "metadata": {},
     "execution_count": 15
    }
   ],
   "source": [
    "A = np.array([[11, 0, 0],[21, 22, 0], [31, 32, 33]])\n",
    "np.linalg.matrix_power((A * I0 + B0),2)"
   ]
  },
  {
   "cell_type": "code",
   "execution_count": null,
   "metadata": {},
   "outputs": [],
   "source": []
  }
 ]
}