{
 "cells": [
  {
   "cell_type": "code",
   "execution_count": 1,
   "metadata": {},
   "outputs": [],
   "source": [
    "import numpy as np\n",
    "import matplotlib.pyplot as plt\n",
    "from scipy.signal import peak_widths, find_peaks, square\n",
    "from scipy.stats import cauchy, binom, norm\n",
    "from scipy.optimize import curve_fit, minimize, Bounds\n",
    "import pandas as pd\n",
    "import os\n",
    "from itertools import permutations"
   ]
  },
  {
   "cell_type": "code",
   "execution_count": 4,
   "metadata": {},
   "outputs": [],
   "source": [
    "def lower_from_arr(arr):\n",
    "    out = np.zeros((3,3))\n",
    "    idxs = np.tril_indices(3)\n",
    "    out[idxs] = arr\n",
    "    return out\n",
    "\n",
    "def arr_from_lower(lower):\n",
    "    idxs = np.tril_indices(3)\n",
    "    return lower[idxs]\n",
    "\n",
    "def calc_res(AB0, I, B):\n",
    "    A = lower_from_arr(AB0[:6])\n",
    "    B0 = np.vstack(AB0[6:])\n",
    "    B_vec = np.matmul(A, I) - B0\n",
    "    B_mag = np.linalg.norm(B_vec, axis=0)\n",
    "    R_mu = B_mag - B\n",
    "    return np.dot(R_mu, R_mu)"
   ]
  },
  {
   "cell_type": "code",
   "execution_count": 22,
   "metadata": {},
   "outputs": [],
   "source": [
    "# try with different starting values, A values etc.!\n",
    "# also actual data\n",
    "Is = np.zeros((12,3))\n",
    "Is[:3,:] = list(set(permutations([5,0,0])))\n",
    "Is[3:6,:] = list(set(permutations([-5,0,0])))\n",
    "Is[6:9,:] = list(set(permutations([5,5,0])))\n",
    "Is[9:, :] = list(set(permutations([-5,-5,0])))\n",
    "max_t = 12\n",
    "residuals = np.zeros(max_t)\n",
    "As = np.zeros((3, 3, max_t))\n",
    "As[:, :, 0] = np.array([[20, 0, 0], [4, 20, 0], [4, 4, 20]])\n",
    "B0 = np.array([3, 10, 55]) # background mg-field\n",
    "A = np.array([[35, 0, 0],[5, -50, 0], [3, 2, 15]])\n",
    "B0_guess = np.array([10, 10, 10]).T\n",
    "B0s = np.zeros((3, max_t))\n",
    "B0s[:, 0] = B0_guess\n",
    "bounds = Bounds(np.ones(9) * -50, np.ones(9)*60)\n",
    "for i in range(1, max_t):\n",
    "    # B is scalar when should be a vector!\n",
    "    measured_B = np.linalg.norm(np.matmul(A, Is[:i,:].T) + np.atleast_2d(B0).T, axis=0) + norm.rvs(0,0.5)\n",
    "    AB0_guess = np.append(arr_from_lower(As[:, :, i-1]), B0s[:, i-1])\n",
    "    # curve_fit would be better than minimize I guess\n",
    "    opt = minimize(calc_res, x0=AB0_guess, \n",
    "                   args=(Is[:i,:].T, measured_B),\n",
    "                   method='trust-constr',\n",
    "                   bounds=bounds,\n",
    "                   hess=lambda x, y, z: np.zeros((len(AB0_guess), len(AB0_guess))))\n",
    "    Ai = lower_from_arr(opt['x'][:6])\n",
    "    B0i = opt['x'][6:]\n",
    "    As[:,:,i] = Ai\n",
    "    B0s[:, i] = B0i\n",
    "    residuals[i] = calc_res(opt['x'], Is[:i,:].T, measured_B)"
   ]
  },
  {
   "cell_type": "code",
   "execution_count": 23,
   "metadata": {},
   "outputs": [
    {
     "data": {
      "text/plain": [
       "[<matplotlib.lines.Line2D at 0x2a929aeb348>]"
      ]
     },
     "execution_count": 23,
     "metadata": {},
     "output_type": "execute_result"
    },
    {
     "data": {
      "image/png": "[encoded data removed]",
      "text/plain": [
       "<Figure size 432x288 with 1 Axes>"
      ]
     },
     "metadata": {
      "needs_background": "light"
     },
     "output_type": "display_data"
    }
   ],
   "source": [
    "plt.plot(residuals)"
   ]
  },
  {
   "cell_type": "code",
   "execution_count": 24,
   "metadata": {},
   "outputs": [
    {
     "name": "stdout",
     "output_type": "stream",
     "text": [
      "[[35.04   0.     0.   ]\n",
      " [-5.192 50.217  0.   ]\n",
      " [ 4.167  1.311 15.086]]\n",
      "[[ 35   0   0]\n",
      " [  5 -50   0]\n",
      " [  3   2  15]]\n"
     ]
    }
   ],
   "source": [
    "with np.printoptions(precision=3, suppress=True):\n",
    "    print(As[:,:,-1])\n",
    "    print(A)"
   ]
  },
  {
   "cell_type": "code",
   "execution_count": 25,
   "metadata": {},
   "outputs": [
    {
     "data": {
      "text/plain": [
       "array([ -1.47169234,   8.28611499, -49.98907154])"
      ]
     },
     "execution_count": 25,
     "metadata": {},
     "output_type": "execute_result"
    }
   ],
   "source": [
    "B0s[:,-1]"
   ]
  },
  {
   "cell_type": "code",
   "execution_count": 26,
   "metadata": {},
   "outputs": [
    {
     "data": {
      "text/plain": [
       "array([129.89503327, 193.92184139, 248.14090883, 263.35902594,\n",
       "       176.70232093,  22.03750465, 289.83659754, 277.34155148,\n",
       "       231.71342427, 292.23747098, 261.21871593])"
      ]
     },
     "execution_count": 26,
     "metadata": {},
     "output_type": "execute_result"
    }
   ],
   "source": [
    "measured_B"
   ]
  },
  {
   "cell_type": "code",
   "execution_count": 66,
   "metadata": {},
   "outputs": [
    {
     "data": {
      "text/plain": [
       "158686.22467339205"
      ]
     },
     "execution_count": 66,
     "metadata": {},
     "output_type": "execute_result"
    }
   ],
   "source": [
    "ab0 = np.append(A.flatten(), B0)\n",
    "I = np.ones((3, 10))\n",
    "calc_res(ab0, I, B[:10])"
   ]
  },
  {
   "cell_type": "code",
   "execution_count": 72,
   "metadata": {},
   "outputs": [
    {
     "data": {
      "text/plain": [
       "array([[35.,  0.,  0.],\n",
       "       [ 5., 35.,  0.],\n",
       "       [ 5.,  5., 35.]])"
      ]
     },
     "execution_count": 72,
     "metadata": {},
     "output_type": "execute_result"
    }
   ],
   "source": [
    "lower_from_arr(arr_from_lower(A))"
   ]
  },
  {
   "cell_type": "code",
   "execution_count": null,
   "metadata": {},
   "outputs": [],
   "source": []
  }
 ],
 "metadata": {
  "kernelspec": {
   "display_name": "Python 3",
   "language": "python",
   "name": "python3"
  },
  "language_info": {
   "codemirror_mode": {
    "name": "ipython",
    "version": 3
   },
   "file_extension": ".py",
   "mimetype": "text/x-python",
   "name": "python",
   "nbconvert_exporter": "python",
   "pygments_lexer": "ipython3",
   "version": "3.7.6"
  }
 },
 "nbformat": 4,
 "nbformat_minor": 2
}
