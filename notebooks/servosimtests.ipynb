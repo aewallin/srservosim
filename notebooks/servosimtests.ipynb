{
 "cells": [
  {
   "cell_type": "code",
   "execution_count": null,
   "metadata": {},
   "outputs": [
    {
     "output_type": "error",
     "ename": "Error",
     "evalue": "Jupyter cannot be started. Error attempting to locate jupyter: Data Science library notebook is not installed in interpreter Python 3.8.3 32-bit.",
     "traceback": [
      "Error: Jupyter cannot be started. Error attempting to locate jupyter: Data Science library notebook is not installed in interpreter Python 3.8.3 32-bit.",
      "at b.startServer (c:\\Users\\LSSLAU\\.vscode\\extensions\\ms-python.python-2020.5.80290\\out\\client\\extension.js:92:270430)",
      "at processTicksAndRejections (internal/process/task_queues.js:85:5)",
      "at async b.createServer (c:\\Users\\LSSLAU\\.vscode\\extensions\\ms-python.python-2020.5.80290\\out\\client\\extension.js:92:269873)",
      "at async connect (c:\\Users\\LSSLAU\\.vscode\\extensions\\ms-python.python-2020.5.80290\\out\\client\\extension.js:92:397876)",
      "at async w.ensureConnectionAndNotebookImpl (c:\\Users\\LSSLAU\\.vscode\\extensions\\ms-python.python-2020.5.80290\\out\\client\\extension.js:16:556625)",
      "at async w.ensureConnectionAndNotebook (c:\\Users\\LSSLAU\\.vscode\\extensions\\ms-python.python-2020.5.80290\\out\\client\\extension.js:16:556303)",
      "at async w.clearResult (c:\\Users\\LSSLAU\\.vscode\\extensions\\ms-python.python-2020.5.80290\\out\\client\\extension.js:16:552346)",
      "at async w.reexecuteCell (c:\\Users\\LSSLAU\\.vscode\\extensions\\ms-python.python-2020.5.80290\\out\\client\\extension.js:16:540374)",
      "at async w.reexecuteCells (c:\\Users\\LSSLAU\\.vscode\\extensions\\ms-python.python-2020.5.80290\\out\\client\\extension.js:16:537541)"
     ]
    }
   ],
   "source": [
    "import numpy as np"
   ]
  },
  {
   "cell_type": "code",
   "execution_count": null,
   "metadata": {},
   "outputs": [],
   "source": []
  }
 ],
 "metadata": {
  "language_info": {
   "codemirror_mode": {
    "name": "ipython",
    "version": 3
   },
   "file_extension": ".py",
   "mimetype": "text/x-python",
   "name": "python",
   "nbconvert_exporter": "python",
   "pygments_lexer": "ipython3",
   "version": 3
  },
  "orig_nbformat": 2
 },
 "nbformat": 4,
 "nbformat_minor": 2
}